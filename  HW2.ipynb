{
 "cells": [
  {
   "cell_type": "markdown",
   "id": "c209b646",
   "metadata": {},
   "source": [
    "### Homework #2"
   ]
  },
  {
   "cell_type": "markdown",
   "id": "869ebfd6",
   "metadata": {},
   "source": [
    "1. Round 4.5667 to the nearest hundreth (2 decimals) using a build-in function, round()."
   ]
  },
  {
   "cell_type": "code",
   "execution_count": 1,
   "id": "123658aa",
   "metadata": {},
   "outputs": [
    {
     "data": {
      "text/plain": [
       "4.57"
      ]
     },
     "execution_count": 1,
     "metadata": {},
     "output_type": "execute_result"
    }
   ],
   "source": [
    "round(4.5667,2)"
   ]
  },
  {
   "cell_type": "markdown",
   "id": "9d3f352c",
   "metadata": {},
   "source": [
    "2. Convert \"657\" to an integer data type"
   ]
  },
  {
   "cell_type": "code",
   "execution_count": 2,
   "id": "d5a67683",
   "metadata": {},
   "outputs": [
    {
     "data": {
      "text/plain": [
       "657"
      ]
     },
     "execution_count": 2,
     "metadata": {},
     "output_type": "execute_result"
    }
   ],
   "source": [
    "int(\"657\")"
   ]
  },
  {
   "cell_type": "markdown",
   "id": "a36f06d4",
   "metadata": {},
   "source": [
    "3. Write a program to get two numbers from a user. Then, create a 6-digit code that is a series of randomly generated numbers between the two numbers given by the user. Print the 6-digit code so all digits are separated by a dash. "
   ]
  },
  {
   "cell_type": "code",
   "execution_count": 3,
   "id": "021c92d4",
   "metadata": {},
   "outputs": [
    {
     "name": "stdout",
     "output_type": "stream",
     "text": [
      "Enter a number: 1\n",
      "Enter another number: 2\n",
      "The secret code is: 2-2-2-1-2-2\n"
     ]
    }
   ],
   "source": [
    "import random as rand\n",
    "\n",
    "n1 = int(input(\"Enter a number: \"))\n",
    "n2 = int(input(\"Enter another number: \"))\n",
    "\n",
    "d1 = rand.randint(n1, n2)\n",
    "d2 = rand.randint(n1, n2)\n",
    "d3 = rand.randint(n1, n2)\n",
    "d4 = rand.randint(n1, n2)\n",
    "d5 = rand.randint(n1, n2)\n",
    "d6 = rand.randint(n1, n2)\n",
    "\n",
    "print(f\"The secret code is: {d1}-{d2}-{d3}-{d4}-{d5}-{d6}\")"
   ]
  },
  {
   "cell_type": "markdown",
   "id": "ee1441a1",
   "metadata": {},
   "source": [
    "### 4. Write a program to remove ALL the white spaces from the following text:\n",
    "\n",
    "        Hickory, dickory, dock,     \n",
    "        The mouse ran up the clock.   \n",
    "        The clock struck one,   \n",
    "        The mouse ran down,                      \n",
    "        Hickory, dickory, dock                  "
   ]
  },
  {
   "cell_type": "code",
   "execution_count": 5,
   "id": "8bf680f1",
   "metadata": {},
   "outputs": [],
   "source": [
    "line1 = \" Hickory,  dickory, dock,     \"\n",
    "line2 = \"The mouse ran up the  clock.\"\n",
    "line3 = \"The clock  struck one,  \"\n",
    "line4 = \"The  mouse  ran down,\"\n",
    "line5 = \" Hickory, dickory,dock    \""
   ]
  },
  {
   "cell_type": "code",
   "execution_count": 7,
   "id": "59d9c718",
   "metadata": {},
   "outputs": [],
   "source": [
    "## strip surrounding white spaces\n",
    "\n",
    "line1 = line1.strip()\n",
    "line2 = line2.strip()\n",
    "line3 = line3.strip()\n",
    "line4 = line4.strip()\n",
    "line5 = line5.strip()\n",
    "\n",
    "## replace remaining white spaces with no spaces\n",
    "\n",
    "line1 = line1.replace(\" \", \"\")\n",
    "line2 = line2.replace(\" \", \"\")\n",
    "line3 = line3.replace(\" \", \"\")\n",
    "line4 = line4.replace(\" \", \"\")\n",
    "line5 = line5.replace(\" \", \"\")"
   ]
  },
  {
   "cell_type": "code",
   "execution_count": 8,
   "id": "11c24618",
   "metadata": {},
   "outputs": [
    {
     "name": "stdout",
     "output_type": "stream",
     "text": [
      "Hickory,dickory,dock,\n",
      "Themouseranuptheclock.\n",
      "Theclockstruckone,\n",
      "Themouserandown,\n",
      "Hickory,dickory,dock\n"
     ]
    }
   ],
   "source": [
    "print(line1)\n",
    "print(line2)\n",
    "print(line3)\n",
    "print(line4)\n",
    "print(line5)"
   ]
  },
  {
   "cell_type": "markdown",
   "id": "72d87b5b",
   "metadata": {},
   "source": [
    "5. Write a function to calculate the miles per gallon. Get a miles driven and gallons used from a user and call your function to calculate the miles per gallon."
   ]
  },
  {
   "cell_type": "code",
   "execution_count": 19,
   "id": "27be7372",
   "metadata": {},
   "outputs": [
    {
     "name": "stdout",
     "output_type": "stream",
     "text": [
      "Please enter the number of miles driven:\t10\n",
      "Please enter the number of gallons used:\t5\n",
      "\n",
      "Miles Driven per Gallon\n",
      "\n",
      "10.0 miles / 5.0 gallons = 2.00 miles per gallon\n"
     ]
    }
   ],
   "source": [
    "def miles pergallon():\n",
    "    miles = float(input(\"Please enter the number of miles driven:\\t\"))\n",
    "    gal = float(input(\"Please enter the number of gallons used:\\t\"))\n",
    "    mpg = miles/gal\n",
    "    print(\"\\nMiles Driven per Gallon\\n\")\n",
    "    print(f\"{miles} miles / {gal} gallons = {mpg:.2f} miles per gallon\")\n",
    "    \n",
    "## call the mpg() function \n",
    "\n",
    "milespergallon()"
   ]
  },
  {
   "cell_type": "markdown",
   "id": "1f3942b8",
   "metadata": {},
   "source": [
    "6. Enhance the <b>compute()</b> function created during Module 2. Enhance the function to compute a circle's area and circumference where:\n",
    "\n",
    " - circle's area = 3.14 X (radius X radius)   \n",
    " - circle's circumference = 3.14 X diameter"
   ]
  },
  {
   "cell_type": "code",
   "execution_count": null,
   "id": "df43daca",
   "metadata": {},
   "outputs": [],
   "source": []
  },
  {
   "cell_type": "code",
   "execution_count": null,
   "id": "fa8de89a",
   "metadata": {},
   "outputs": [],
   "source": []
  },
  {
   "cell_type": "markdown",
   "id": "4c5d83bb",
   "metadata": {},
   "source": [
    "7. Write a function called multiply_two() that accepts two parameters. The function should print a message like '15 * 2 = 30'.  Randomly generate two numbers between 1 and 100, then call the function with the two random numbers."
   ]
  },
  {
   "cell_type": "code",
   "execution_count": 20,
   "id": "fe5ca2dc",
   "metadata": {},
   "outputs": [],
   "source": [
    "def multiply_two(x, y):\n",
    "    print(f\"{x} * {y} = {x * y}\")"
   ]
  },
  {
   "cell_type": "code",
   "execution_count": 21,
   "id": "9f83774c",
   "metadata": {},
   "outputs": [
    {
     "name": "stdout",
     "output_type": "stream",
     "text": [
      "98 * 38 = 3724\n"
     ]
    }
   ],
   "source": [
    "num1 = rand.randint(1, 100)\n",
    "num2 = rand.randint(1, 100)\n",
    "\n",
    "multiply_two(num1, num2)"
   ]
  },
  {
   "cell_type": "markdown",
   "id": "36865477",
   "metadata": {},
   "source": [
    "8. Create a function for a multiplication table.  Get a number from a user and then call you function which produces a multiplication table for that number.\n",
    "The output should look something like this:\n",
    "\n",
    "        Enter a number: 3\n",
    "        3 X 1 = 3\n",
    "        3 X 2 = 6\n",
    "        3 X 3 = 9\n",
    "        3 X 4 = 12\n",
    "        3 X 5 = 15\n",
    "        3 X 6 = 18\n",
    "        3 X 7 = 21\n",
    "        3 X 8 = 24\n",
    "        3 X 9 = 27"
   ]
  },
  {
   "cell_type": "code",
   "execution_count": null,
   "id": "b023e863",
   "metadata": {},
   "outputs": [],
   "source": [
    "def mult_table(x):\n",
    "    print(f\"\\nMultiplication Table for {x}\\n\")\n",
    "    print(f\"{x} X 1 = {x * 1}\")\n",
    "    print(f\"{x} X 2 = {x * 2}\")\n",
    "    print(f\"{x} X 3 = {x * 3}\")\n",
    "    print(f\"{x} X 4 = {x * 4}\")\n",
    "    print(f\"{x} X 5 = {x * 5}\")\n",
    "    print(f\"{x} X 6 = {x * 6}\")\n",
    "    print(f\"{x} X 7 = {x * 7}\")\n",
    "    print(f\"{x} X 8 = {x * 8}\")\n",
    "    print(f\"{x} X 9 = {x * 9}\")"
   ]
  },
  {
   "cell_type": "code",
   "execution_count": null,
   "id": "563c8445",
   "metadata": {},
   "outputs": [],
   "source": [
    "num = int(input(\"Enter a number: \"))\n",
    "\n",
    "mult_table(num)"
   ]
  },
  {
   "cell_type": "markdown",
   "id": "8a3cc2bd",
   "metadata": {},
   "source": [
    "## "
   ]
  }
 ],
 "metadata": {
  "kernelspec": {
   "display_name": "Python 3",
   "language": "python",
   "name": "python3"
  },
  "language_info": {
   "codemirror_mode": {
    "name": "ipython",
    "version": 3
   },
   "file_extension": ".py",
   "mimetype": "text/x-python",
   "name": "python",
   "nbconvert_exporter": "python",
   "pygments_lexer": "ipython3",
   "version": "3.8.8"
  }
 },
 "nbformat": 4,
 "nbformat_minor": 5
}
